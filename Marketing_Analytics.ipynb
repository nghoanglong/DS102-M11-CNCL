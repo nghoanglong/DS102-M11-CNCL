{
  "nbformat": 4,
  "nbformat_minor": 0,
  "metadata": {
    "colab": {
      "name": "Copy of Marketing_Analytics.ipynb",
      "provenance": [],
      "collapsed_sections": [
        "pOaBp_acohu2",
        "KkJv08kPBhy-",
        "lpxWr0JLXqqW",
        "h_u7zwEdaA2a"
      ],
      "include_colab_link": true
    },
    "kernelspec": {
      "name": "python3",
      "display_name": "Python 3"
    },
    "language_info": {
      "name": "python"
    }
  },
  "cells": [
    {
      "cell_type": "markdown",
      "metadata": {
        "id": "view-in-github",
        "colab_type": "text"
      },
      "source": [
        "<a href=\"https://colab.research.google.com/github/nghoanglong/DS102-M11-CNCL/blob/main/Marketing_Analytics.ipynb\" target=\"_parent\"><img src=\"https://colab.research.google.com/assets/colab-badge.svg\" alt=\"Open In Colab\"/></a>"
      ]
    },
    {
      "cell_type": "markdown",
      "metadata": {
        "id": "kFwq7kqLRgWV"
      },
      "source": [
        "# Import Libaries và Packages cần thiết"
      ]
    },
    {
      "cell_type": "code",
      "metadata": {
        "id": "u9cZNAWZRlzI"
      },
      "source": [
        "import pandas as pd\n",
        "import numpy as np\n",
        "import urllib.request\n",
        "import matplotlib.pyplot as plt\n",
        "import seaborn as sns\n",
        "import os\n",
        "import json\n",
        "\n",
        "from datetime import date\n",
        "from sklearn.pipeline import Pipeline\n",
        "from sklearn.preprocessing import StandardScaler, OneHotEncoder\n",
        "from sklearn.compose import ColumnTransformer\n",
        "from sklearn.impute import SimpleImputer\n",
        "%matplotlib inline"
      ],
      "execution_count": null,
      "outputs": []
    },
    {
      "cell_type": "code",
      "metadata": {
        "colab": {
          "base_uri": "https://localhost:8080/"
        },
        "id": "RpF2E3QIMVAg",
        "outputId": "e236cbc9-9f57-4b84-ed04-585cfca22ebd"
      },
      "source": [
        "# Kết nối tới Drive\n",
        "from google.colab import drive\n",
        "drive.mount('/content/drive')"
      ],
      "execution_count": null,
      "outputs": [
        {
          "output_type": "stream",
          "name": "stdout",
          "text": [
            "Mounted at /content/drive\n"
          ]
        }
      ]
    },
    {
      "cell_type": "code",
      "metadata": {
        "id": "IBPjsKXCL2ft"
      },
      "source": [
        "DOWNLOAD_URL = 'https://raw.githubusercontent.com/nghoanglong/DS102-M11-CNCL/main/data/marketing_data.csv'\n",
        "SAVING_PATH = '/content/drive/MyDrive/Colab Notebooks/HMTK/dataset'"
      ],
      "execution_count": null,
      "outputs": []
    },
    {
      "cell_type": "markdown",
      "metadata": {
        "id": "baAUFzKGIxIE"
      },
      "source": [
        "# Tiền xử lý dữ liệu - Hoàng Long\n",
        "**Lưu ý:** Sau khi đã chạy các bước tiền xử lý dữ liệu này rồi, data được tiền xử lý sẽ được lưu tại một **SAVING_PATH** cố định, ta chỉ cần load data này lên và xây dựng model, không cần chạy lại các bước tiền xử lý này nữa"
      ]
    },
    {
      "cell_type": "markdown",
      "metadata": {
        "id": "PY_xOT4zMudY"
      },
      "source": [
        "## Down and Save Dataset\n",
        "**Lưu ý:** Nếu chưa down và save dataset, chạy các scripts dưới đây. Nếu đã từng chạy các scripts dưới đây, vui lòng bỏ qua và làm các bước tiếp theo"
      ]
    },
    {
      "cell_type": "code",
      "metadata": {
        "id": "cUz5kmASKJql"
      },
      "source": [
        "def fetch_data(download_url=DOWNLOAD_URL, saving_path=SAVING_PATH):\n",
        "    os.makedirs(saving_path, exist_ok=True)\n",
        "    tgz_path = os.path.join(saving_path, 'marketing_analytics.csv')\n",
        "    urllib.request.urlretrieve(download_url, tgz_path)"
      ],
      "execution_count": null,
      "outputs": []
    },
    {
      "cell_type": "code",
      "metadata": {
        "id": "kq0G8KxOLuW0"
      },
      "source": [
        "fetch_data(DOWNLOAD_URL, SAVING_PATH)"
      ],
      "execution_count": null,
      "outputs": []
    },
    {
      "cell_type": "markdown",
      "metadata": {
        "id": "0cd0sDqFJn0q"
      },
      "source": [
        "## Load data\n",
        "Đưa dữ liệu vào DataFrame"
      ]
    },
    {
      "cell_type": "code",
      "metadata": {
        "id": "uvw6AKzoREpZ"
      },
      "source": [
        "DATASET_PATH = os.path.join(SAVING_PATH, 'marketing_analytics.csv')"
      ],
      "execution_count": null,
      "outputs": []
    },
    {
      "cell_type": "code",
      "metadata": {
        "id": "wIJQNkZZRd-0"
      },
      "source": [
        "df = pd.read_csv(DATASET_PATH)"
      ],
      "execution_count": null,
      "outputs": []
    },
    {
      "cell_type": "code",
      "metadata": {
        "id": "QwhhNrxnSmnP"
      },
      "source": [
        "# kiểm tra dữ liệu với 5 dòng đầu\n",
        "df.head(5)"
      ],
      "execution_count": null,
      "outputs": []
    },
    {
      "cell_type": "code",
      "metadata": {
        "id": "FhhSJUXOS561"
      },
      "source": [
        "# Xem thông tin về dữ liệu\n",
        "df.info()"
      ],
      "execution_count": null,
      "outputs": []
    },
    {
      "cell_type": "markdown",
      "metadata": {
        "id": "9cPWkXeXTCmy"
      },
      "source": [
        "## Rename Attributes and Cast Type\n",
        "Ở bước này, ta nhận thấy có một số vấn đề sau với dữ liệu:\n",
        "\n",
        "*   Tên của các cột chưa được chuẩn hóa (Sai và gây khó hiểu)\n",
        "*   Kiểu dữ liệu của các cột chưa được tốt\n",
        "\n",
        "Ta tiến hành đổi tên các cột, và chuyển đổi kiểu dữ liệu như sau\n",
        "\n"
      ]
    },
    {
      "cell_type": "code",
      "metadata": {
        "id": "L7_h42CKUFGd"
      },
      "source": [
        "# Rename columns\n",
        "df.rename(columns={'ID':'User_ID'}, inplace=True)\n",
        "df.rename(columns={' Income ':'Income'}, inplace=True)\n",
        "df.rename(columns={'Dt_Customer': 'Date_Enroll'}, inplace = True)\n",
        "df.rename(columns={'MntMeatProducts': 'MntMeats'}, inplace = True)\n",
        "df.rename(columns={'MntFishProducts': 'MntFishs'}, inplace = True)\n",
        "df.rename(columns={'MntSweetProducts': 'MntSweets'}, inplace = True)\n",
        "df.rename(columns={'MntGoldProds': 'MntGolds'}, inplace = True)"
      ],
      "execution_count": null,
      "outputs": []
    },
    {
      "cell_type": "code",
      "metadata": {
        "id": "fKJKs7j9fLc0"
      },
      "source": [
        "# Cast type to numertical\n",
        "df['Income'] = df['Income'].str.replace('$', '')\n",
        "df['Income'] = df['Income'].str.replace(',', '').astype('float')\n",
        "\n",
        "# Cast type to datetime\n",
        "df['Date_Enroll'] = pd.to_datetime(df['Date_Enroll'])"
      ],
      "execution_count": null,
      "outputs": []
    },
    {
      "cell_type": "code",
      "metadata": {
        "id": "ocWBwVSqf_x9"
      },
      "source": [
        "# Kết quả\n",
        "df.info()"
      ],
      "execution_count": null,
      "outputs": []
    },
    {
      "cell_type": "markdown",
      "metadata": {
        "id": "-lrxsM2AgLHp"
      },
      "source": [
        "## Explory Data Analysis\n",
        "Phân tích dữ liệu, đưa ra góc nhìn tổng quan về dữ liệu"
      ]
    },
    {
      "cell_type": "code",
      "metadata": {
        "id": "V0EHfohrgUZS"
      },
      "source": [
        "# Tổng quan thông số dữ liệu\n",
        "df.describe()"
      ],
      "execution_count": null,
      "outputs": []
    },
    {
      "cell_type": "markdown",
      "metadata": {
        "id": "pOaBp_acohu2"
      },
      "source": [
        "### Xử lý Outliers của các cột dạng Numeric"
      ]
    },
    {
      "cell_type": "code",
      "metadata": {
        "id": "yEDpGsHjv480"
      },
      "source": [
        "# Lấy ra những cột dạng numeric trong data\n",
        "numeric = df.select_dtypes(exclude='object')"
      ],
      "execution_count": null,
      "outputs": []
    },
    {
      "cell_type": "code",
      "metadata": {
        "id": "DliTvCxTrbBd"
      },
      "source": [
        "cols_to_check = [col for col in numeric.columns[0:18] if col not in ['User_ID', 'Date_Enroll']]\n",
        "cols_to_check"
      ],
      "execution_count": null,
      "outputs": []
    },
    {
      "cell_type": "code",
      "metadata": {
        "id": "TNIMUrfisUa-"
      },
      "source": [
        "# visualize outliers\n",
        "fig, ax = plt.subplots(4, 4, figsize = (20, 10))\n",
        "ax = ax.flatten()\n",
        "for i, c in enumerate(cols_to_check):\n",
        "    sns.boxplot(x = df[c], ax = ax[i])\n",
        "fig.tight_layout()"
      ],
      "execution_count": null,
      "outputs": []
    },
    {
      "cell_type": "markdown",
      "metadata": {
        "id": "fTl79APztDpI"
      },
      "source": [
        "Ta thấy đa phần dữ liệu đều có những outliners nhưng dữ liệu tại cột Year_Birth mang những outliners không đúng logic. Tính tại năm hiện tại (2021) thì những người sinh năm <= 1900 đã vượt ngoài 120 tuổi. Ta tiến hành drop hết những người có độ tuổi là dữ liệu lỗi"
      ]
    },
    {
      "cell_type": "code",
      "metadata": {
        "id": "t6LaTK_pM-fY"
      },
      "source": [
        "# drop những người có độ tuổi trên 100 ~ year_birth <= 1900\n",
        "class HandleOutliners:\n",
        "    def __init__(self, outliners = True): # no *args or **kargs\n",
        "        self.outliners = outliners\n",
        "    def fit(self, X, y=None):\n",
        "        return self # nothing else to do\n",
        "    def transform(self, X):\n",
        "        dropped = X.copy()\n",
        "        if 'Year_Birth' in X.columns:\n",
        "          dropped = X[numeric[\"Year_Birth\"]>1900].reset_index(drop=True)\n",
        "        return dropped"
      ],
      "execution_count": null,
      "outputs": []
    },
    {
      "cell_type": "markdown",
      "metadata": {
        "id": "KkJv08kPBhy-"
      },
      "source": [
        "### Xử lý dữ liệu Null"
      ]
    },
    {
      "cell_type": "code",
      "metadata": {
        "id": "BaecBJQpEvaS"
      },
      "source": [
        "# Plot các cột để kiểm tra Null\n",
        "missing = df.isna().sum().reset_index()\n",
        "missing.columns = ['features', 'total_missing']\n",
        "missing.index = missing['features']\n",
        "del missing['features']\n",
        "missing['total_missing'].plot(kind = 'bar', figsize=(14, 4))"
      ],
      "execution_count": null,
      "outputs": []
    },
    {
      "cell_type": "code",
      "metadata": {
        "id": "9NG8TlhKrBUp"
      },
      "source": [
        "# Xử lý dữ liệu Null\n",
        "class HandlingNullData:\n",
        "    def __init__(self, handle=True): # no *args or **kargs\n",
        "        self.handle = handle\n",
        "    def fit(self, X, y=None):\n",
        "        return self # nothing else to do\n",
        "    def transform(self, X):\n",
        "        cp_df = X.copy()\n",
        "        if 'Income' in X.columns:\n",
        "          median = cp_df['Income'].median()\n",
        "          cp_df['Income'].fillna(median, inplace=True)\n",
        "        return cp_df"
      ],
      "execution_count": null,
      "outputs": []
    },
    {
      "cell_type": "markdown",
      "metadata": {
        "id": "o5EOrYxGJnas"
      },
      "source": [
        "Ta thấy cột Income mang giá trị Null, ta tiến hành fill các giá trị mean vào những chỗ có mang giá trị Null này"
      ]
    },
    {
      "cell_type": "markdown",
      "metadata": {
        "id": "lpxWr0JLXqqW"
      },
      "source": [
        "### Build Pipeline Preprocessing\n",
        "Ta cần build một pipeline có khả năng xử lý outliners, fill các mean vào những sample mang dữ liệu Null, áp dụng Standard Scaler"
      ]
    },
    {
      "cell_type": "code",
      "metadata": {
        "id": "mrwQcEQoQGlS"
      },
      "source": [
        "# drop cột Date_Enroll\n",
        "df = df.drop('Date_Enroll', axis=1)"
      ],
      "execution_count": null,
      "outputs": []
    },
    {
      "cell_type": "code",
      "metadata": {
        "id": "jJj_644pnQlE"
      },
      "source": [
        "# Combine những thuộc tính cần thiết \n",
        "df['Total_Spent'] = df[[col for col in df.columns if 'Mnt' in col]].sum(axis=1)\n",
        "df['TotalPurchases'] = df[[col for col in df.columns if 'Purchases' in col]].sum(axis=1)\n",
        "df['TotalCampaignsAcc'] = df[[col for col in df.columns if 'Cmp' in col] + ['Response']].sum(axis=1)"
      ],
      "execution_count": null,
      "outputs": []
    },
    {
      "cell_type": "code",
      "metadata": {
        "id": "TwcKcL4DR1BB"
      },
      "source": [
        "# Xem mối tương quan dữ liệu\n",
        "plt.figure(figsize=(24,10))\n",
        "sns.heatmap(df.corr().sort_values(by='Response', ascending=False),annot=True)"
      ],
      "execution_count": null,
      "outputs": []
    },
    {
      "cell_type": "markdown",
      "metadata": {
        "id": "akDN6FNbUPwT"
      },
      "source": [
        "Bài toán cần dự đoán nhãn của cột Response, dựa vào biểu đồ tương quan, mức threshold ta cần giữ sẽ >= 0.14"
      ]
    },
    {
      "cell_type": "code",
      "metadata": {
        "id": "g930p3AcVVRt"
      },
      "source": [
        "cols_drop = ['Response', 'Income', 'MntFruits', 'MntSweets', 'MntFishs', 'NumStorePurchases', \n",
        "             'Year_Birth', 'Complain', 'NumWebVisitsMonth', 'User_ID', 'Kidhome', 'Teenhome', 'Recency']\n",
        "selected_cols_data = df.drop(cols_drop,axis=1)\n",
        "y_label = df['Response']"
      ],
      "execution_count": null,
      "outputs": []
    },
    {
      "cell_type": "code",
      "metadata": {
        "id": "kZ_JhjBHX39e"
      },
      "source": [
        "selected_cols_data.info()"
      ],
      "execution_count": null,
      "outputs": []
    },
    {
      "cell_type": "code",
      "metadata": {
        "colab": {
          "base_uri": "https://localhost:8080/"
        },
        "id": "vnsAw6YDkt-L",
        "outputId": "736d3543-2a48-466d-8774-dd09416c0d38"
      },
      "source": [
        "# Lấy ra list những categorical columns\n",
        "cate_cols = list(selected_cols_data.select_dtypes(include='object'))\n",
        "cate_cols"
      ],
      "execution_count": null,
      "outputs": [
        {
          "output_type": "execute_result",
          "data": {
            "text/plain": [
              "['Education', 'Marital_Status', 'Country']"
            ]
          },
          "metadata": {},
          "execution_count": 28
        }
      ]
    },
    {
      "cell_type": "code",
      "metadata": {
        "id": "Ih1GlqnblTAI"
      },
      "source": [
        "# Lấy ra list những columns ở dạng number\n",
        "num_cols = list(col for col in selected_cols_data.select_dtypes(exclude='object'))\n",
        "num_cols"
      ],
      "execution_count": null,
      "outputs": []
    },
    {
      "cell_type": "code",
      "metadata": {
        "id": "Yz0MroeVJypm"
      },
      "source": [
        "clean_data = Pipeline([\n",
        "    ('outliners', HandleOutliners()),\n",
        "    ('null', HandlingNullData()),\n",
        "])\n",
        "\n",
        "num_pipeline = Pipeline([\n",
        "    ('std_scaler', StandardScaler()),\n",
        "])\n",
        "\n",
        "transform_cols = ColumnTransformer([\n",
        "    (\"num\", num_pipeline, num_cols),\n",
        "    (\"cat\", OneHotEncoder(handle_unknown='ignore'), cate_cols),\n",
        "], remainder='passthrough')\n",
        "\n",
        "full_pipeline = Pipeline([\n",
        "    ('clean_data', clean_data),\n",
        "    ('transform_cols', transform_cols),\n",
        "])"
      ],
      "execution_count": null,
      "outputs": []
    },
    {
      "cell_type": "code",
      "metadata": {
        "id": "xDP-Rhh9PDM6"
      },
      "source": [
        "X = full_pipeline.fit_transform(selected_cols_data)"
      ],
      "execution_count": null,
      "outputs": []
    },
    {
      "cell_type": "code",
      "metadata": {
        "colab": {
          "base_uri": "https://localhost:8080/"
        },
        "id": "ZU9ad0lVQ8Ol",
        "outputId": "9059ea7b-9b11-47e1-f334-8d87b51a3570"
      },
      "source": [
        "print(f'input shape = {X.shape}')\n",
        "print(f'label shape = {y_label.shape}')"
      ],
      "execution_count": null,
      "outputs": [
        {
          "output_type": "stream",
          "name": "stdout",
          "text": [
            "input shape = (2240, 35)\n",
            "label shape = (2240,)\n"
          ]
        }
      ]
    },
    {
      "cell_type": "markdown",
      "metadata": {
        "id": "h_u7zwEdaA2a"
      },
      "source": [
        "### Lưu dữ liệu đã được xử lý"
      ]
    },
    {
      "cell_type": "code",
      "metadata": {
        "id": "c7oi3JVqCAN6"
      },
      "source": [
        "# Lưu input đầu vào\n",
        "np.save(os.path.join(SAVING_PATH, 'input_data.npy'), X)"
      ],
      "execution_count": null,
      "outputs": []
    },
    {
      "cell_type": "code",
      "metadata": {
        "id": "bRH4JYlWaF6U"
      },
      "source": [
        "# Lưu label\n",
        "np.save(os.path.join(SAVING_PATH, 'label.npy'), y_label)"
      ],
      "execution_count": null,
      "outputs": []
    },
    {
      "cell_type": "markdown",
      "metadata": {
        "id": "_aqYchEVZXfr"
      },
      "source": [
        "# Xây dựng model - Quỳnh Hoa, Hoàng Long"
      ]
    },
    {
      "cell_type": "code",
      "metadata": {
        "id": "SXdIQndNGdCG"
      },
      "source": [
        "input = np.load(os.path.join(SAVING_PATH, 'input_data.npy'))"
      ],
      "execution_count": null,
      "outputs": []
    },
    {
      "cell_type": "code",
      "metadata": {
        "id": "bb9IUVmXOSIt"
      },
      "source": [
        "input.shape"
      ],
      "execution_count": null,
      "outputs": []
    },
    {
      "cell_type": "code",
      "metadata": {
        "id": "Rk60XJyt7zaW"
      },
      "source": [
        "y = np.load(os.path.join(SAVING_PATH, 'label.npy'))"
      ],
      "execution_count": null,
      "outputs": []
    },
    {
      "cell_type": "code",
      "source": [
        "y.shape"
      ],
      "metadata": {
        "id": "P_GZN7BjyoTN"
      },
      "execution_count": null,
      "outputs": []
    },
    {
      "cell_type": "markdown",
      "metadata": {
        "id": "IRzaG7cZtLZu"
      },
      "source": [
        "## Logistic regression"
      ]
    },
    {
      "cell_type": "markdown",
      "source": [
        "### Chọn tham số tối ưu"
      ],
      "metadata": {
        "id": "Q5uINe3apSd_"
      }
    },
    {
      "cell_type": "code",
      "source": [
        "from sklearn.model_selection import GridSearchCV\n",
        "from sklearn.linear_model import LogisticRegression\n",
        "\n",
        "logreg = LogisticRegression()\n",
        "parameters = [{'C':[0.001, 0.01, 0.1, 1.0, 10.0], \n",
        "               'solver':['sag', 'liblinear', 'lbfgs']}]\n",
        "\n",
        "grid_search = GridSearchCV(estimator = logreg,  \n",
        "                           param_grid = parameters,\n",
        "                           scoring = 'accuracy',\n",
        "                           cv = 3,\n",
        "                           verbose=0)"
      ],
      "metadata": {
        "id": "DVpQs88OK8ZJ"
      },
      "execution_count": null,
      "outputs": []
    },
    {
      "cell_type": "code",
      "source": [
        "grid_search.fit(input, y)"
      ],
      "metadata": {
        "id": "IGE-78UEQRcj"
      },
      "execution_count": null,
      "outputs": []
    },
    {
      "cell_type": "code",
      "source": [
        "grid_search.cv_results_"
      ],
      "metadata": {
        "id": "D2r0nf2yZ3wc"
      },
      "execution_count": null,
      "outputs": []
    },
    {
      "cell_type": "markdown",
      "source": [
        "### Train and Evaluate"
      ],
      "metadata": {
        "id": "WgLHY1Tgpccy"
      }
    },
    {
      "cell_type": "code",
      "source": [
        "from sklearn.model_selection import StratifiedKFold, cross_val_score\n",
        "from sklearn.linear_model import LogisticRegression\n",
        "from sklearn.metrics import accuracy_score, precision_score, recall_score, f1_score\n",
        "\n",
        "skfolds = StratifiedKFold(n_splits=3, random_state=1712, shuffle=True)\n",
        "logreg = LogisticRegression(C=0.01, solver='liblinear', random_state=1711)\n",
        "accuracy_lr = []; precision_lr = []; recall_lr = []; f1_lr = []\n",
        "\n",
        "for train_index, test_index in skfolds.split(input, y):\n",
        "    X_train_folds = input[train_index]\n",
        "    y_train_folds = y[train_index]\n",
        "    X_test_fold = input[test_index]\n",
        "    y_test_fold = y[test_index]\n",
        "    logreg.fit(X_train_folds, y_train_folds)\n",
        "    y_pred = logreg.predict(X_test_fold)\n",
        "    accuracy_lr.append(accuracy_score(y_test_fold, y_pred))\n",
        "    precision_lr.append(precision_score(y_test_fold, y_pred))\n",
        "    recall_lr.append(recall_score(y_test_fold, y_pred))\n",
        "    f1_lr.append(f1_score(y_test_fold, y_pred))"
      ],
      "metadata": {
        "id": "5i8hA00hyt9C"
      },
      "execution_count": null,
      "outputs": []
    },
    {
      "cell_type": "code",
      "source": [
        "print(f'accuracy = {np.mean(accuracy_lr)}')\n",
        "print(f'precision = {np.mean(precision_lr)}')\n",
        "print(f'recall = {np.mean(recall_lr)}')\n",
        "print(f'f1 = {np.mean(f1_lr)}')"
      ],
      "metadata": {
        "id": "aUenyiq62Xf-"
      },
      "execution_count": null,
      "outputs": []
    },
    {
      "cell_type": "markdown",
      "metadata": {
        "id": "iLdFRXxBs_0k"
      },
      "source": [
        "## Decision tree"
      ]
    },
    {
      "cell_type": "markdown",
      "source": [
        "### Chọn tham số tối ưu"
      ],
      "metadata": {
        "id": "3-JBGtbyptty"
      }
    },
    {
      "cell_type": "code",
      "source": [
        "from sklearn.model_selection import GridSearchCV\n",
        "from sklearn.tree import DecisionTreeClassifier\n",
        "\n",
        "clf_gini = DecisionTreeClassifier()\n",
        "parameters = [{'criterion':['gini', 'entropy'], 'max_depth':[1, 2, 3, 4, 5, 6]}]\n",
        "\n",
        "grid_search = GridSearchCV(estimator = clf_gini,  \n",
        "                           param_grid = parameters,\n",
        "                           scoring = 'accuracy',\n",
        "                           cv = 3,\n",
        "                           verbose=0)"
      ],
      "metadata": {
        "id": "p3LQHcGpTKeF"
      },
      "execution_count": null,
      "outputs": []
    },
    {
      "cell_type": "code",
      "source": [
        "grid_search.fit(input, y)"
      ],
      "metadata": {
        "id": "XPYxzknNcYp6",
        "outputId": "1c8c49e4-9fc9-4563-9488-ae9c96735c41",
        "colab": {
          "base_uri": "https://localhost:8080/"
        }
      },
      "execution_count": null,
      "outputs": [
        {
          "output_type": "execute_result",
          "data": {
            "text/plain": [
              "GridSearchCV(cv=3, estimator=DecisionTreeClassifier(),\n",
              "             param_grid=[{'criterion': ['gini', 'entropy'],\n",
              "                          'max_depth': [1, 2, 3, 4, 5, 6]}],\n",
              "             scoring='accuracy')"
            ]
          },
          "metadata": {},
          "execution_count": 19
        }
      ]
    },
    {
      "cell_type": "code",
      "source": [
        "grid_search.cv_results_"
      ],
      "metadata": {
        "id": "VqWxIPTQca6k"
      },
      "execution_count": null,
      "outputs": []
    },
    {
      "cell_type": "markdown",
      "source": [
        "### Train and evaluate"
      ],
      "metadata": {
        "id": "_MZ0haZ6qE1E"
      }
    },
    {
      "cell_type": "code",
      "source": [
        "from sklearn.model_selection import StratifiedKFold, cross_val_score\n",
        "from sklearn.tree import DecisionTreeClassifier\n",
        "from sklearn.metrics import accuracy_score, precision_score, recall_score, f1_score\n",
        "\n",
        "skfolds = StratifiedKFold(n_splits=3, random_state=1712, shuffle=True)\n",
        "clf_gini = DecisionTreeClassifier(criterion='entropy', max_depth=6, random_state=1711)\n",
        "accuracy_dt = []; precision_dt = []; recall_dt = []; f1_dt = []\n",
        "\n",
        "for train_index, test_index in skfolds.split(input, y):\n",
        "    X_train_folds = input[train_index]\n",
        "    y_train_folds = y[train_index]\n",
        "    X_test_fold = input[test_index]\n",
        "    y_test_fold = y[test_index]\n",
        "    clf_gini.fit(X_train_folds, y_train_folds)\n",
        "    y_pred = clf_gini.predict(X_test_fold)\n",
        "    accuracy_dt.append(accuracy_score(y_test_fold, y_pred))\n",
        "    precision_dt.append(precision_score(y_test_fold, y_pred))\n",
        "    recall_dt.append(recall_score(y_test_fold, y_pred))\n",
        "    f1_dt.append(f1_score(y_test_fold, y_pred))"
      ],
      "metadata": {
        "id": "v6kz_uxE_7L_"
      },
      "execution_count": null,
      "outputs": []
    },
    {
      "cell_type": "code",
      "source": [
        "print(f'accuracy = {np.mean(accuracy_dt)}')\n",
        "print(f'precision = {np.mean(precision_dt)}')\n",
        "print(f'recall = {np.mean(recall_dt)}')\n",
        "print(f'f1 = {np.mean(f1_dt)}')"
      ],
      "metadata": {
        "id": "noFIDGtUAPzk"
      },
      "execution_count": null,
      "outputs": []
    },
    {
      "cell_type": "markdown",
      "source": [
        "## XGBoost"
      ],
      "metadata": {
        "id": "c13NUJKQjQ8N"
      }
    },
    {
      "cell_type": "markdown",
      "source": [
        "### Chọn tham số tối ưu"
      ],
      "metadata": {
        "id": "AAmnxkFPqQvA"
      }
    },
    {
      "cell_type": "code",
      "source": [
        "from sklearn.model_selection import GridSearchCV\n",
        "from xgboost import XGBClassifier\n",
        "\n",
        "model_xgb= XGBClassifier()\n",
        "parameters = {'n_estimators':[10, 20, 30, 40, 50, 100, 200],'max_depth':[3, 4, 5, 6],'learning_rate':[0.001, 0.01, 0.1, 0.01]}\n",
        "model_xgb_grid = GridSearchCV(model_xgb, \n",
        "                              parameters,\n",
        "                              cv=3,\n",
        "                              verbose=0)"
      ],
      "metadata": {
        "id": "iHw1F5fgjVO3"
      },
      "execution_count": null,
      "outputs": []
    },
    {
      "cell_type": "code",
      "source": [
        "model_xgb_grid.fit(input, y)"
      ],
      "metadata": {
        "id": "mUlOgjJ0rojF",
        "outputId": "471e3491-62c4-4b88-9db0-82c7f8fd5d07",
        "colab": {
          "base_uri": "https://localhost:8080/"
        }
      },
      "execution_count": null,
      "outputs": [
        {
          "output_type": "execute_result",
          "data": {
            "text/plain": [
              "GridSearchCV(cv=3, estimator=XGBClassifier(),\n",
              "             param_grid={'learning_rate': [0.001, 0.01, 0.1, 0.01],\n",
              "                         'max_depth': [3, 4, 5, 6],\n",
              "                         'n_estimators': [10, 20, 30, 40, 50, 100, 200]})"
            ]
          },
          "metadata": {},
          "execution_count": 25
        }
      ]
    },
    {
      "cell_type": "code",
      "source": [
        "model_xgb_grid.cv_results_"
      ],
      "metadata": {
        "id": "jbc-NUHOr7wQ"
      },
      "execution_count": null,
      "outputs": []
    },
    {
      "cell_type": "code",
      "source": [
        "model_xgb_grid.best_params_"
      ],
      "metadata": {
        "id": "-3t5TwKosKjX"
      },
      "execution_count": null,
      "outputs": []
    },
    {
      "cell_type": "markdown",
      "source": [
        "### Train and evaluate"
      ],
      "metadata": {
        "id": "lm9MzbQksQAc"
      }
    },
    {
      "cell_type": "code",
      "source": [
        "from sklearn.model_selection import StratifiedKFold, cross_val_score\n",
        "from xgboost import XGBClassifier\n",
        "from sklearn.metrics import accuracy_score, precision_score, recall_score, f1_score\n",
        "\n",
        "skfolds = StratifiedKFold(n_splits=3, random_state=1712, shuffle=True)\n",
        "xgb_classifier = XGBClassifier(n_estimators=200, max_depth=3, learning_rate=0.1, random_state=1711)\n",
        "accuracy_xgb = []; precision_xgb = []; recall_xgb = []; f1_xgb = []\n",
        "\n",
        "for train_index, test_index in skfolds.split(input, y):\n",
        "    X_train_folds = input[train_index]\n",
        "    y_train_folds = y[train_index]\n",
        "    X_test_fold = input[test_index]\n",
        "    y_test_fold = y[test_index]\n",
        "    xgb_classifier.fit(X_train_folds, y_train_folds)\n",
        "    y_pred = xgb_classifier.predict(X_test_fold)\n",
        "    accuracy_xgb.append(accuracy_score(y_test_fold, y_pred))\n",
        "    precision_xgb.append(precision_score(y_test_fold, y_pred))\n",
        "    recall_xgb.append(recall_score(y_test_fold, y_pred))\n",
        "    f1_xgb.append(f1_score(y_test_fold, y_pred))"
      ],
      "metadata": {
        "id": "ZeCuARh5sSfo"
      },
      "execution_count": null,
      "outputs": []
    },
    {
      "cell_type": "code",
      "source": [
        "print(f'accuracy = {np.mean(accuracy_xgb)}')\n",
        "print(f'precision = {np.mean(precision_xgb)}')\n",
        "print(f'recall = {np.mean(recall_xgb)}')\n",
        "print(f'f1 = {np.mean(f1_xgb)}')"
      ],
      "metadata": {
        "id": "OOuTvnFns16B"
      },
      "execution_count": null,
      "outputs": []
    }
  ]
}